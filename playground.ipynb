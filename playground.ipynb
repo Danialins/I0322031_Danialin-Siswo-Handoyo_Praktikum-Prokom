{
 "cells": [
  {
   "attachments": {},
   "cell_type": "markdown",
   "metadata": {},
   "source": [
    "# File"
   ]
  },
  {
   "attachments": {},
   "cell_type": "markdown",
   "metadata": {},
   "source": [
    "### Objek File\n",
    "Berikut merupakan contoh program untuk memanggil file dengan mode \"r\""
   ]
  },
  {
   "cell_type": "code",
   "execution_count": 3,
   "metadata": {},
   "outputs": [],
   "source": [
    "obj_file = open(\"Biodata.txt\",\"r\") ##Lokasi disesuiakan dengan lokasi penyimpananan file pada device praktikan"
   ]
  },
  {
   "attachments": {},
   "cell_type": "markdown",
   "metadata": {},
   "source": [
    "### readlines\n",
    "Perintah di bawah ini akan menampilkan file dengan format list"
   ]
  },
  {
   "cell_type": "code",
   "execution_count": 15,
   "metadata": {},
   "outputs": [
    {
     "name": "stdout",
     "output_type": "stream",
     "text": [
      "['Nama: Ye\\n', 'Umur: 21\\n', 'Alamat: dbd']\n"
     ]
    }
   ],
   "source": [
    "# buka file\n",
    "file_biodata = open(\"Biodata.txt\",\"r\")\n",
    "# baca isi file\n",
    "print(file_biodata.readlines())\n",
    "# tutup file\n",
    "file_biodata.close()"
   ]
  },
  {
   "attachments": {},
   "cell_type": "markdown",
   "metadata": {},
   "source": [
    "### read\n",
    "Perintah di bawah ini akan menampilkan file dengan format text"
   ]
  },
  {
   "cell_type": "code",
   "execution_count": 16,
   "metadata": {},
   "outputs": [
    {
     "name": "stdout",
     "output_type": "stream",
     "text": [
      "Nama: Ye\n",
      "Umur: 21\n",
      "Alamat: dbd\n"
     ]
    }
   ],
   "source": [
    "# buka file\n",
    "file_biodata = open(\"Biodata.txt\",\"r\")\n",
    "# baca isi file\n",
    "print(file_biodata.read())\n",
    "# tutup file\n",
    "file_biodata.close()"
   ]
  },
  {
   "attachments": {},
   "cell_type": "markdown",
   "metadata": {},
   "source": [
    "### write\n",
    "Perintah di bawah ini merupakah akses untuk menulis ulang dari file yang ada"
   ]
  },
  {
   "cell_type": "code",
   "execution_count": 17,
   "metadata": {},
   "outputs": [
    {
     "name": "stdout",
     "output_type": "stream",
     "text": [
      "Selamat Datang di Program Biodata\n",
      "---------------------------------\n",
      "Data anda berhasil ditulis\n"
     ]
    }
   ],
   "source": [
    "print(\"Selamat Datang di Program Biodata\")\n",
    "print(\"---------------------------------\")\n",
    "\n",
    "# Mengambil input dari user\n",
    "nama = input(\"Nama: \")\n",
    "umur = input(\"Umur: \")\n",
    "alamat = input(\"Alamat: \")\n",
    "\n",
    "# Format teks\n",
    "teks = \"Nama: {}\\nUmur: {}\\nAlamat: {}\".format(nama,umur,alamat)\n",
    "\n",
    "# Buka file untuk ditulis\n",
    "file_biodata = open(\"Biodata.txt\",\"w\")\n",
    "\n",
    "# Tulis teks ke file\n",
    "file_biodata.write(teks)\n",
    "\n",
    "#tutup file\n",
    "file_biodata.close()\n",
    "\n",
    "print(\"Data anda berhasil ditulis\")"
   ]
  },
  {
   "attachments": {},
   "cell_type": "markdown",
   "metadata": {},
   "source": [
    "### append\n",
    "Perintah di bawah ini merupakah akses untuk menambahkan text dari file yang ada"
   ]
  },
  {
   "cell_type": "code",
   "execution_count": 1,
   "metadata": {},
   "outputs": [
    {
     "name": "stdout",
     "output_type": "stream",
     "text": [
      "Selamat Datang di Program Biodata\n",
      "---------------------------------\n",
      "Data anda berhasil ditambahkan\n"
     ]
    }
   ],
   "source": [
    "print(\"Selamat Datang di Program Biodata\")\n",
    "print(\"---------------------------------\")\n",
    "\n",
    "# Mengambil input dari user\n",
    "nama = input(\"Nama: \")\n",
    "umur = input(\"Umur: \")\n",
    "alamat = input(\"Alamat: \")\n",
    "\n",
    "# Format teks\n",
    "teks = \"\\n\\nNama: {}\\nUmur: {}\\nAlamat: {}\".format(nama,umur,alamat)\n",
    "\n",
    "# Buka file untuk ditambahkan\n",
    "file_biodata = open(\"Biodata.txt\",\"a\")\n",
    "\n",
    "# Tulis teks ke file\n",
    "file_biodata.write(teks)\n",
    "\n",
    "#tutup file\n",
    "file_biodata.close()\n",
    "\n",
    "print(\"Data anda berhasil ditambahkan\")"
   ]
  },
  {
   "attachments": {},
   "cell_type": "markdown",
   "metadata": {},
   "source": [
    "# Direktori "
   ]
  },
  {
   "attachments": {},
   "cell_type": "markdown",
   "metadata": {},
   "source": [
    "### Membuat Direktori\n",
    "Berikut merupakan perintah untuk membuat direktori baru"
   ]
  },
  {
   "cell_type": "code",
   "execution_count": 21,
   "metadata": {},
   "outputs": [],
   "source": [
    "import os\n",
    "\n",
    "def main():\n",
    "    os.mkdir(\"modul_08\")\n",
    "\n",
    "ifname:\"main\"\n",
    "main()"
   ]
  },
  {
   "attachments": {},
   "cell_type": "markdown",
   "metadata": {},
   "source": [
    "### Merubah Nama Direktori\n",
    "Berikut merupakan perintah untuk merubah nama dari direktori"
   ]
  },
  {
   "cell_type": "code",
   "execution_count": 22,
   "metadata": {},
   "outputs": [],
   "source": [
    "import os\n",
    "\n",
    "def main():\n",
    "    os.rename(\"modul_08\",\"submodul_08\")\n",
    "\n",
    "ifname:\"main\"\n",
    "main()"
   ]
  },
  {
   "attachments": {},
   "cell_type": "markdown",
   "metadata": {},
   "source": [
    "### Menghapus Direktori\n",
    "Berikut merupakan perintah untuk menghapus direktori yang sudah ada"
   ]
  },
  {
   "cell_type": "code",
   "execution_count": null,
   "metadata": {},
   "outputs": [],
   "source": [
    "import os\n",
    "\n",
    "def main():\n",
    "    os.rmdir(\"submodul_08\")\n",
    "\n",
    "ifname:\"main\"\n",
    "main()"
   ]
  },
  {
   "attachments": {},
   "cell_type": "markdown",
   "metadata": {},
   "source": [
    "# Modul"
   ]
  },
  {
   "attachments": {},
   "cell_type": "markdown",
   "metadata": {},
   "source": [
    "### Perintah import"
   ]
  },
  {
   "cell_type": "code",
   "execution_count": 26,
   "metadata": {},
   "outputs": [],
   "source": [
    "import Geometri2D"
   ]
  },
  {
   "attachments": {},
   "cell_type": "markdown",
   "metadata": {},
   "source": [
    "Menggunakan Modul dengan Perintah import"
   ]
  },
  {
   "cell_type": "code",
   "execution_count": 27,
   "metadata": {},
   "outputs": [
    {
     "name": "stdout",
     "output_type": "stream",
     "text": [
      "Luas persegi panjang adalah 8\n",
      "Keliling persegi panjang adalah 12\n"
     ]
    }
   ],
   "source": [
    "# Persegi Panjang\n",
    "\n",
    "# Mendefinisikan panjang dan lebar persegi panjang\n",
    "p = 2\n",
    "l = 4\n",
    "\n",
    "# Menghitung luas dan keliling persegi panjang\n",
    "luas = Geometri2D.LuasPersegiPanjang(p,l)\n",
    "keliling = Geometri2D.KelilingPersegiPanjang(p,l)\n",
    "\n",
    "# Menampilkan hasil\n",
    "print(\"Luas persegi panjang adalah\", luas)\n",
    "print(\"Keliling persegi panjang adalah\", keliling)"
   ]
  },
  {
   "attachments": {},
   "cell_type": "markdown",
   "metadata": {},
   "source": [
    "### Perintah from ... import ..."
   ]
  },
  {
   "attachments": {},
   "cell_type": "markdown",
   "metadata": {},
   "source": [
    "Menggunakan Modul dengan Perintah from ... import ..."
   ]
  },
  {
   "cell_type": "code",
   "execution_count": 28,
   "metadata": {},
   "outputs": [
    {
     "name": "stdout",
     "output_type": "stream",
     "text": [
      "Luas persegi panjang adalah 8\n"
     ]
    }
   ],
   "source": [
    "# Luas Persegi Panjang dalam Modul Geometri2D.py\n",
    "\n",
    "from Geometri2D import LuasPersegiPanjang\n",
    "\n",
    "# Mendefinisikan panjang dan lebar persegi panjang\n",
    "p = 2\n",
    "l = 4\n",
    "\n",
    "# Menghitung luas persegi panjang\n",
    "luas = LuasPersegiPanjang(p,l)\n",
    "\n",
    "# Menampilkan hasil\n",
    "print(\"Luas persegi panjang adalah\", luas)"
   ]
  },
  {
   "attachments": {},
   "cell_type": "markdown",
   "metadata": {},
   "source": [
    "### Nama Alias Modul"
   ]
  },
  {
   "attachments": {},
   "cell_type": "markdown",
   "metadata": {},
   "source": [
    "Membuat Nama Alias"
   ]
  },
  {
   "cell_type": "code",
   "execution_count": 29,
   "metadata": {},
   "outputs": [],
   "source": [
    "import Geometri2D as DuaD"
   ]
  },
  {
   "attachments": {},
   "cell_type": "markdown",
   "metadata": {},
   "source": [
    "Menggunakan Modul dengan Nama Alias"
   ]
  },
  {
   "cell_type": "code",
   "execution_count": null,
   "metadata": {},
   "outputs": [
    {
     "ename": "",
     "evalue": "",
     "output_type": "error",
     "traceback": [
      "\u001b[1;31mFailed to start the Kernel. \n",
      "\u001b[1;31mUnable to start Kernel 'Python' due to connection timeout. \n",
      "\u001b[1;31mView Jupyter <a href='command:jupyter.viewOutput'>log</a> for further details."
     ]
    }
   ],
   "source": [
    "# Persegi Panjang\n",
    "\n",
    "# Mendefinisikan panjang dan lebar persegi panjang\n",
    "p = 3\n",
    "l = 3\n",
    "\n",
    "# Menghitung luas dan keliling persegi panjang\n",
    "luas = DuaD.LuasPersegiPanjang(p,l)\n",
    "keliling = DuaD.KelilingPersegiPanjang(p,l)\n",
    "\n",
    "# Menampilkan hasil\n",
    "print(\"Luas persegi panjang adalah\", luas)\n",
    "print(\"Keliling persegi panjang adalah\", keliling)"
   ]
  },
  {
   "attachments": {},
   "cell_type": "markdown",
   "metadata": {},
   "source": [
    "## Exercise\n",
    "1. Buatlah 1 file .txt baru pada direktori yang sama dengan Biodata.txt lalu isilah file tersebut menggunakan syntax python dan gabungkan kedua file tersebut menjadi 1\n",
    "\n",
    "2. Buatlah 1 modul dengan nama Geometri3D.py baru pada direktori yang sama dengan Geometri3D.py yang berisi fungsi beberapa volume dan luas permukaan dari bangun ruang. Cobalah menggunakan modul baru yang kalian buat seperti contoh di atas!"
   ]
  },
  {
   "cell_type": "code",
   "execution_count": 2,
   "metadata": {},
   "outputs": [
    {
     "name": "stdout",
     "output_type": "stream",
     "text": [
      "File gabungan berhasil dibuat dengan nama 'gabungan.txt'.\n"
     ]
    }
   ],
   "source": [
    "# Membuat dan mengisi file baru\n",
    "with open(\"data_baru.txt\", \"w\") as submodul_8 :\n",
    "    submodul_8.write(\"Ini adalah isi dari file baru.\\n\")\n",
    "    submodul_8.write(\"Ini adalah baris kedua.\\n\")\n",
    "    submodul_8.write(\"Ini adalah baris ketiga.\\n\")\n",
    "\n",
    "# Menggabungkan dua file\n",
    "file1 = \"Biodata.txt\"\n",
    "file2 = \"submodul_8.txt\"\n",
    "file_output = \"gabungan.txt\"\n",
    "\n",
    "with open(file_output, \"w\") as file_gabungan:\n",
    "    with open(file1, \"r\") as f1:\n",
    "        file_gabungan.write(f1.read())\n",
    "    with open(file2, \"r\") as f2:\n",
    "        file_gabungan.write(f2.read())\n",
    "\n",
    "print(\"File gabungan berhasil dibuat dengan nama 'gabungan.txt'.\")"
   ]
  },
  {
   "cell_type": "code",
   "execution_count": 7,
   "metadata": {},
   "outputs": [
    {
     "ename": "ImportError",
     "evalue": "cannot import name 'kubus' from 'Geometri3D' (c:\\Users\\didan\\I0322031_Danialin-Siswo-Handoyo_Praktikum-Prokom\\Modul_08\\Geometri3D.py)",
     "output_type": "error",
     "traceback": [
      "\u001b[1;31m---------------------------------------------------------------------------\u001b[0m",
      "\u001b[1;31mImportError\u001b[0m                               Traceback (most recent call last)",
      "Cell \u001b[1;32mIn[7], line 1\u001b[0m\n\u001b[1;32m----> 1\u001b[0m \u001b[39mfrom\u001b[39;00m \u001b[39mGeometri3D\u001b[39;00m \u001b[39mimport\u001b[39;00m kubus , balok , bola \n\u001b[0;32m      3\u001b[0m \u001b[39m# Contoh penggunaan\u001b[39;00m\n\u001b[0;32m      4\u001b[0m sisi_kubus \u001b[39m=\u001b[39m \u001b[39m5\u001b[39m\n",
      "\u001b[1;31mImportError\u001b[0m: cannot import name 'kubus' from 'Geometri3D' (c:\\Users\\didan\\I0322031_Danialin-Siswo-Handoyo_Praktikum-Prokom\\Modul_08\\Geometri3D.py)"
     ]
    }
   ],
   "source": [
    "from Geometri3D import kubus , balok , bola \n",
    "\n",
    "# Contoh penggunaan\n",
    "sisi_kubus = 5\n",
    "volume_kubus, luas_permukaan_kubus = kubus(sisi_kubus)\n",
    "print(\"Volume Kubus:\", volume_kubus)\n",
    "print(\"Luas Permukaan Kubus:\", luas_permukaan_kubus)\n",
    "\n",
    "panjang_balok = 4\n",
    "lebar_balok = 6\n",
    "tinggi_balok = 8\n",
    "volume_balok, luas_permukaan_balok = balok(panjang_balok, lebar_balok, tinggi_balok)\n",
    "print(\"Volume Balok:\", volume_balok)\n",
    "print(\"Luas Permukaan Balok:\", luas_permukaan_balok)\n",
    "\n",
    "jari_jari_bola = 3\n",
    "volume_bola, luas_permukaan_bola = bola(jari_jari_bola)\n",
    "print(\"Volume Bola:\", volume_bola)\n",
    "print(\"Luas Permukaan Bola:\", luas_permukaan_bola)"
   ]
  }
 ],
 "metadata": {
  "kernelspec": {
   "display_name": "Python 3",
   "language": "python",
   "name": "python3"
  },
  "language_info": {
   "codemirror_mode": {
    "name": "ipython",
    "version": 3
   },
   "file_extension": ".py",
   "mimetype": "text/x-python",
   "name": "python",
   "nbconvert_exporter": "python",
   "pygments_lexer": "ipython3",
   "version": "3.10.11"
  },
  "orig_nbformat": 4
 },
 "nbformat": 4,
 "nbformat_minor": 2
}
